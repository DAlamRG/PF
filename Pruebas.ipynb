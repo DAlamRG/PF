{
 "cells": [
  {
   "cell_type": "markdown",
   "metadata": {},
   "source": [
    "# Notebook para ir probando código"
   ]
  },
  {
   "cell_type": "markdown",
   "metadata": {},
   "source": [
    "### Prueba de calculadora de energía de una secuencia de aminoácidos"
   ]
  },
  {
   "cell_type": "code",
   "execution_count": 1,
   "metadata": {},
   "outputs": [
    {
     "data": {
      "text/plain": [
       "7"
      ]
     },
     "execution_count": 1,
     "metadata": {},
     "output_type": "execute_result"
    }
   ],
   "source": [
    "\"\"\"\n",
    "countH(HPlist)\n",
    "\n",
    "Given a vector (H,H,P,H,P,...)=(-1,-1,1,-1,1,...), counts the number of H-H bonds within the array.\n",
    "\"\"\"\n",
    "function countH(HPlist)\n",
    "    s=0\n",
    "    for i in 1:(length(HPlist)-1)\n",
    "        if HPlist[i] == 1\n",
    "            continue\n",
    "        elseif HPlist[i] == -1\n",
    "            if HPlist[i+1] == 1\n",
    "                continue\n",
    "            elseif HPlist[i+1] == -1\n",
    "                s=s+1\n",
    "            end\n",
    "        end\n",
    "    end\n",
    "    return s\n",
    "end\n",
    "\n",
    "# It works as expected\n",
    "\n",
    "countH([-1,1,1,-1,-1,-1,-1,-1,-1,-1,-1])"
   ]
  },
  {
   "cell_type": "code",
   "execution_count": 2,
   "metadata": {},
   "outputs": [
    {
     "data": {
      "text/plain": [
       "4.0"
      ]
     },
     "execution_count": 2,
     "metadata": {},
     "output_type": "execute_result"
    }
   ],
   "source": [
    "\"\"\"\n",
    "energy(N,edo,HPlist)\n",
    "\n",
    "Given a an array side N, a matrix encoding the aminoacids positions, and an array containing the sequence of H,P aminoacids; the function\n",
    "outputs the energy of the configuration.\n",
    "\"\"\"\n",
    "function energy(N,edo,HPlist)\n",
    "    red=zeros(Int8,(N,N))\n",
    "\n",
    "    # I set up the protein within the array.\n",
    "    for k in 1:length(HPlist)\n",
    "        x=edo[k,1]\n",
    "        y=edo[k,2]\n",
    "        red[x,y]=HPlist[k]\n",
    "    end\n",
    "    \n",
    "    \n",
    "    # I create an auxiliary array with periodic boundary conditions.\n",
    "    redaux=zeros(Int8,(N+2,N+2))\n",
    "    redaux[2:end-1,2:end-1]=red\n",
    "    redaux[end,2:end-1]=red[1,:]\n",
    "    redaux[1,2:end-1]=red[end,:]\n",
    "    redaux[2:end-1,end]=red[:,1]\n",
    "    redaux[2:end-1,1]=red[:,end]\n",
    "    \n",
    "    #display(redaux)\n",
    "\n",
    "    # Next, I iterate over the protein´s vertices and compute the number of H-H bonds.\n",
    "    # To avoid counting the covalent bonds, I substract two times the value of `countBH(HPlist)`.\n",
    "    enp=0\n",
    "    for i in 1:length(HPlist)\n",
    "        if HPlist[i]==1 \n",
    "            continue\n",
    "        elseif HPlist[i]==-1\n",
    "            x=edo[i,1]+1\n",
    "            y=edo[i,2]+1 # I have to shift both indice by one place because we are working on the extended array `redaux`.\n",
    "            cruz=[redaux[x+1,y],redaux[x,y+1],redaux[x-1,y],redaux[x,y-1]] # I define an array with the next closest neighbors.\n",
    "            c=count(i->(i==-1),cruz)\n",
    "            enp=enp+(c)\n",
    "        end\n",
    "    end\n",
    "    en=((enp)-2*countH(HPlist))/2 # The total energy is obtained by substracting the number of covalent bonds to `enp` \n",
    "    #and dividing the resulting number by two.\n",
    "    return en\n",
    "end\n",
    "\n",
    "# Funciona bien la función\n",
    "\n",
    "energy(10,[[4 4];[5 4];[5 5];[4 5];[3 5];[3 6];[2 6];[2 5];[2 4];[3 4];[3 3]],[-1,1,1,-1,-1,-1,-1,-1,-1,-1,-1])"
   ]
  },
  {
   "cell_type": "markdown",
   "metadata": {},
   "source": [
    "### Prueba de indices peiódicos"
   ]
  },
  {
   "cell_type": "code",
   "execution_count": 3,
   "metadata": {},
   "outputs": [
    {
     "data": {
      "text/plain": [
       "3×3 Matrix{Int64}:\n",
       " -7529316963305340593  2269115227269326801   3979699031640824801\n",
       "  7332070554163025861  4248043218967491501   6712915092395804627\n",
       " -2645398375938493463  6905288346468852977  -6751972255004110072"
      ]
     },
     "metadata": {},
     "output_type": "display_data"
    },
    {
     "data": {
      "text/plain": [
       "true"
      ]
     },
     "execution_count": 3,
     "metadata": {},
     "output_type": "execute_result"
    }
   ],
   "source": [
    "# Now, I want a function which takes an array and two indices, and returns the indices taking periodic b.c. into account\n",
    "\n",
    "\"\"\"\n",
    "    perriodicInd2D(A,indices)\n",
    "\n",
    "Given a 2D array `A` and a couple of indices, returns the indices for the equivalent array with periodic boundary conditions.\n",
    "\"\"\"\n",
    "function perriodicInd2D(A,indices)\n",
    "    lx,ly=size(A)\n",
    "    ix,iy=indices\n",
    "    Ix=0\n",
    "    Iy=0\n",
    "    mx=mod(ix,lx)\n",
    "    my=mod(iy,ly)\n",
    "    \n",
    "    # The following conditional imposes periodic boundary conditions by use of the `mod()` function.\n",
    "    if mx != 0\n",
    "        Ix=mx\n",
    "    else\n",
    "        Ix=lx\n",
    "    end\n",
    "    \n",
    "    if my != 0\n",
    "        Iy=my\n",
    "    else\n",
    "        Iy=ly\n",
    "    end\n",
    "    \n",
    "    return ([Ix,Iy])\n",
    "end\n",
    "\n",
    "#Pruebo la función\n",
    "\n",
    "mpp=rand(Int64,(3,3))\n",
    "display(mpp)\n",
    "ind1,ind2=perriodicInd2D(mpp,[3,2])\n",
    "mpp[ind1,ind2] == mpp[3,2]"
   ]
  },
  {
   "cell_type": "markdown",
   "metadata": {},
   "source": [
    "### Prueba de función que comprueba la validez de una configuración."
   ]
  },
  {
   "cell_type": "code",
   "execution_count": 7,
   "metadata": {},
   "outputs": [
    {
     "data": {
      "text/plain": [
       "false"
      ]
     },
     "execution_count": 7,
     "metadata": {},
     "output_type": "execute_result"
    }
   ],
   "source": [
    "# Since I end up setting uo the array wchich contains the protein sequence multiple times, I write a function to do \n",
    "#just that.\n",
    "\"\"\"\n",
    "    makeLattice(N,edo,HPlist)\n",
    "\n",
    "Given a value for the lattice size `N`, a matrix encoding the aminoacids positions `edo`, and an array containing \n",
    "the sequence of H,P aminoacids `HPlist`; creates a 2D array containing the amino acid sequence.\n",
    "\"\"\"\n",
    "function makeLattice(N,edo,HPlist)\n",
    "    red=zeros(Int8,(N,N))\n",
    "    for k in 1:length(HPlist)\n",
    "        x=edo[k,1]\n",
    "        y=edo[k,2]\n",
    "        red[x,y]=HPlist[k]\n",
    "    end\n",
    "    return red\n",
    "end\n",
    "\n",
    "\n",
    "\"\"\"\n",
    "    validConf(N,ind,edo,HPlist)\n",
    "\n",
    "Given a 2D array of side `N`, a matrix encoding the aminoacids positions `edo`, an index `ind` , and an array containing \n",
    "the sequence of H,P aminoacids `HPlist`; determines whether the protein structure is valid or not.\n",
    "\"\"\"\n",
    "function validConf(N,ind,edo,HPlist)\n",
    "    \n",
    "    # I set up the protein within the array.\n",
    "    red=makeLattice(N,edo,HPlist)\n",
    "    \n",
    "    # Next, I iterate over the protein´s vertices, computing the distance to the next vertix.\n",
    "    ans=true\n",
    "    if ind !=1\n",
    "        for j in ind:-1:2\n",
    "            x1,y1=edo[j,:]\n",
    "            x2,y2=edo[j-1,:]\n",
    "            dx=abs(x1-x2)\n",
    "            dy=abs(y1-y2)\n",
    "            if (dx > 1 || dy > 1) == true # The sequence is not valid\n",
    "                ans=false\n",
    "                break\n",
    "            else \n",
    "                continue\n",
    "            end\n",
    "        end\n",
    "    end\n",
    "return ans\n",
    "end\n",
    "\n",
    "\n",
    "validConf(10,8,[[4 4];[5 4];[6 4];[4 5];[3 5];[3 6];[2 6];[2 5];[2 4];[3 4];[3 3]],[-1,1,1,-1,-1,-1,-1,-1,-1,-1,-1])"
   ]
  },
  {
   "cell_type": "markdown",
   "metadata": {},
   "source": [
    "### Prueba de función que mueve un solo punto dentro de un array."
   ]
  },
  {
   "cell_type": "code",
   "execution_count": 8,
   "metadata": {},
   "outputs": [
    {
     "data": {
      "text/plain": [
       "10×10 Matrix{Int8}:\n",
       " 0  0   0   0   0   0  0  0  0  0\n",
       " 0  0   0  -1  -1  -1  0  0  0  0\n",
       " 0  0  -1  -1  -1  -1  0  0  0  0\n",
       " 0  0   0  -1  -1   0  0  0  0  0\n",
       " 0  0   0   1   1   0  0  0  0  0\n",
       " 0  0   0   0   0   0  0  0  0  0\n",
       " 0  0   0   0   0   0  0  0  0  0\n",
       " 0  0   0   0   0   0  0  0  0  0\n",
       " 0  0   0   0   0   0  0  0  0  0\n",
       " 0  0   0   0   0   0  0  0  0  0"
      ]
     },
     "metadata": {},
     "output_type": "display_data"
    },
    {
     "data": {
      "text/plain": [
       "10×10 Matrix{Int8}:\n",
       " 0  0   0   0   0   0  0  0  0  0\n",
       " 0  0   0  -1  -1  -1  0  0  0  0\n",
       " 0  0  -1  -1  -1  -1  0  0  0  0\n",
       " 0  0   0  -1  -1   0  0  0  0  0\n",
       " 0  0   0   1   0   0  0  0  0  0\n",
       " 0  0   0   0   0   1  0  0  0  0\n",
       " 0  0   0   0   0   0  0  0  0  0\n",
       " 0  0   0   0   0   0  0  0  0  0\n",
       " 0  0   0   0   0   0  0  0  0  0\n",
       " 0  0   0   0   0   0  0  0  0  0"
      ]
     },
     "metadata": {},
     "output_type": "display_data"
    }
   ],
   "source": [
    "\"\"\"\n",
    "    singleMove2D(arr,pos1,pos2)\n",
    "\n",
    "Given a 2D array `arr`, an initial position  `pos1` ([xᵢ,yᵢ]) and a final desired position `pos2` ([xₛ,yₛ]); moves the value of \n",
    "# `arr[xᵢ,yᵢ]` to  `arr[xₛ,yₛ]`.\n",
    "\"\"\"\n",
    "eddo=[[4 4];[5 4];[5 5];[4 5];[3 5];[3 6];[2 6];[2 5];[2 4];[3 4];[3 3]]\n",
    "HPplist=[-1,1,1,-1,-1,-1,-1,-1,-1,-1,-1]\n",
    "redd=zeros(Int8,(10,10))\n",
    "\n",
    "for k in 1:length(HPplist)\n",
    "    x=eddo[k,1]\n",
    "    y=eddo[k,2]\n",
    "    redd[x,y]=HPplist[k]\n",
    "end\n",
    "\n",
    "display(redd)\n",
    "\n",
    "function singleMove2D(arr,pos1,pos2)\n",
    "    red=arr\n",
    "    xi,yi=pos1\n",
    "    xf,yf=pos2\n",
    "    if pos1 != pos2\n",
    "        red[xf,yf]=arr[xi,yi]\n",
    "        red[xi,yi]=0\n",
    "    end\n",
    "    return red\n",
    "end\n",
    "\n",
    "# lA función funciona bien\n",
    "\n",
    "display(singleMove2D(redd,[5,5],[6,6]))"
   ]
  },
  {
   "cell_type": "markdown",
   "metadata": {},
   "source": [
    "### Prueba de un solo pull move en 2D"
   ]
  },
  {
   "cell_type": "code",
   "execution_count": 18,
   "metadata": {},
   "outputs": [
    {
     "data": {
      "text/plain": [
       "10×10 Matrix{Int8}:\n",
       " 0  0   0  0  0   0   0  0  0  0\n",
       " 0  0   0  0  0   0   0  0  0  0\n",
       " 0  0   0  0  0   0   0  0  0  0\n",
       " 0  0   0  0  0  -1   1  0  0  0\n",
       " 0  0   0  0  1  -1  -1  0  0  0\n",
       " 0  0  -1  1  1  -1   1  0  0  0\n",
       " 0  0   0  0  0  -1   0  0  0  0\n",
       " 0  0   0  0  0   1   0  0  0  0\n",
       " 0  0   0  0  0   0   0  0  0  0\n",
       " 0  0   0  0  0   0   0  0  0  0"
      ]
     },
     "metadata": {},
     "output_type": "display_data"
    },
    {
     "data": {
      "text/plain": [
       "10×10 Matrix{Int8}:\n",
       " 0  0   0  0  0   0   0   0  0  0\n",
       " 0  0   0  0  0   0   0   0  0  0\n",
       " 0  0   0  0  0   0   0   0  0  0\n",
       " 0  0   0  0  0   0   0   0  0  0\n",
       " 0  0   0  0  1  -1  -1   1  0  0\n",
       " 0  0  -1  1  1  -1   1  -1  0  0\n",
       " 0  0   0  0  0  -1   0   0  0  0\n",
       " 0  0   0  0  0   1   0   0  0  0\n",
       " 0  0   0  0  0   0   0   0  0  0\n",
       " 0  0   0  0  0   0   0   0  0  0"
      ]
     },
     "metadata": {},
     "output_type": "display_data"
    }
   ],
   "source": [
    "\n",
    "# Knowing how to asses the validity of a configuration, I proceed to write a function which performs a complete pull-move for all \n",
    "# of the amino acids within the protein chain, except for those at the ends\n",
    "\"\"\"\n",
    "    pullMove2D(N,ind,edo,HPlist)\n",
    "\n",
    "Given a 2D array of side `N`, and index `ind`, a matrix encoding the aminoacids positions `edo`, and an array containing \n",
    "the sequence of H,P aminoacids `HPlist`; chooses a random vertex to pull. \n",
    "The functions stops when a valid configuration has been achieved.\n",
    "\"\"\"\n",
    "function pullMove2D(N,ind,edo,HPlist)\n",
    "    \n",
    "    # I set up the protein within the array.\n",
    "    red=makeLattice(N,edo,HPlist)\n",
    "    display(red)\n",
    "    \n",
    "    newedo=copy(edo)\n",
    "    \n",
    "    # Now we check wether a pull-move is possible for the selected vertex. A diagonal space must be empty. Also, the empty\n",
    "    # diagonal space must be adjacent to the amino acid correpsonding to `ind+1`.\n",
    "    # First I check where `ind+1` is.\n",
    "    \n",
    "    xplus=edo[ind+1,1]\n",
    "    yplus=edo[ind+1,2] # Position of `ind+1`\n",
    "    x=edo[ind,1]\n",
    "    y=edo[ind,2] # Position of `ind`\n",
    "    dx=x-xplus\n",
    "    dy=y-yplus\n",
    "    rel1= dx > 0 && dy == 0\n",
    "    rel2= dx == 0 && dy < 0\n",
    "    rel3= dx < 0 && dy == 0\n",
    "    rel4= dx == 0 && dy > 0\n",
    "\n",
    "    diagspaces=ones(Int8,4)\n",
    "    if rel1 == true\n",
    "        diagspaces[1]=red[x-1,y+1]\n",
    "        diagspaces[4]=red[x-1,y-1]\n",
    "    elseif rel2 == true\n",
    "        diagspaces[1]=red[x-1,y+1]\n",
    "        diagspaces[2]=red[x+1,y+1]\n",
    "    elseif rel3 == true\n",
    "        diagspaces[2]=red[x+1,y+1]\n",
    "        diagspaces[3]=red[x+1,y-1]\n",
    "    elseif rel4 == true\n",
    "        diagspaces[3]=red[x+1,y-1]\n",
    "        diagspaces[4]=red[x-1,y-1]\n",
    "    end\n",
    "\n",
    "\n",
    "    v1=red[x-1,y]\n",
    "    v2=red[x,y+1]\n",
    "    v3=red[x+1,y]\n",
    "    v4=red[x,y-1]  # Possible sites to move `ind-1` to.\n",
    "\n",
    "    cond1= edo[ind-1,:] == [x-1,y]\n",
    "    cond2= edo[ind-1,:] == [x,y+1]\n",
    "    cond3= edo[ind-1,:] == [x+1,y]\n",
    "    cond4= edo[ind-1,:] == [x,y-1] # `edo[ind-1,:]` is the current location on the array `red` of `ind-1`.\n",
    "    \n",
    "    condi1= (v1 == 0) || cond1 # Either the place is empty, or `ind-1` is already there.\n",
    "    condi2= (v2 == 0) || cond2\n",
    "    condi3= (v3 == 0) || cond3\n",
    "    condi4= (v4 == 0) || cond4\n",
    "    condis=Bool[condi1 || condi2, condi2 || condi3, condi3 || condi4, condi4 || condi1]\n",
    "\n",
    "\n",
    "\n",
    "    indices=Int8[]\n",
    "    for k in 1:4\n",
    "        space=diagspaces[k]\n",
    "        # The diagonal space is empty, and the adjacent space is either empty or occupied by `ind-1` ,\n",
    "        # pull move might be possible.\n",
    "        if (space == 0 && condis[k] ) == true \n",
    "            push!(indices,k)\n",
    "        else\n",
    "            continue\n",
    "        end\n",
    "    end\n",
    "\n",
    "\n",
    "    # I have an array with the possible spaces to move to. Now I have to check whether there is space for the amino acid \n",
    "    # correpsonding to `ind-1` to move to.  If `indices` is empty, the next part is ommited.\n",
    "    if isempty(indices) == false\n",
    "\n",
    "        xys=zeros(Int8,2) # To be filled with the position `ind-1` might be needed to be moved to.\n",
    "\n",
    "        for el in indices\n",
    "\n",
    "            if el == 1\n",
    "                if condi1 == true # Either `v1` is empty or it is already occupied by `ind-1`. A pull move is all but assured.\n",
    "                    singleMove2D(red,[x,y],[x-1,y+1]) # Make the move.\n",
    "                    newedo[ind,:]=[x-1,y+1] # Record the change.\n",
    "                    xys[:]=[x-1,y]\n",
    "                    break\n",
    "                elseif condi2 == true\n",
    "                    singleMove2D(red,[x,y],[x-1,y+1])\n",
    "                    newedo[ind,:]=[x-1,y+1]\n",
    "                    xys[:]=[x,y+1]\n",
    "                    break\n",
    "                end\n",
    "\n",
    "\n",
    "            elseif el == 2\n",
    "                if condi2 == true\n",
    "                    singleMove2D(red,[x,y],[x+1,y+1])\n",
    "                    newedo[ind,:]=[x+1,y+1]\n",
    "                    xys[:]=[x,y+1]\n",
    "                    break\n",
    "                elseif condi3 == true\n",
    "                    singleMove2D(red,[x,y],[x+1,y+1])\n",
    "                    newedo[ind,:]=[x+1,y+1]\n",
    "                    xys[:]=[x+1,y]\n",
    "                    break  \n",
    "                end\n",
    "\n",
    "\n",
    "            elseif el == 3 \n",
    "                if condi3 == true\n",
    "                    singleMove2D(red,[x,y],[x+1,y-1])\n",
    "                    newedo[ind,:]=[x+1,y-1]\n",
    "                    xys[:]=[x+1,y]\n",
    "                    break\n",
    "                elseif condi4 == true\n",
    "                    singleMove2D(red,[x,y],[x+1,y-1])\n",
    "                    newedo[ind,:]=[x+1,y-1]\n",
    "                    xys[:]=[x,y-1]\n",
    "                    break\n",
    "                end\n",
    "\n",
    "\n",
    "            elseif el == 4 \n",
    "                if condi4 == true\n",
    "                    singleMove2D(red,[x,y],[x-1,y-1])\n",
    "                    newedo[ind,:]=[x-1,y-1]\n",
    "                    xys[:]=[x,y-1]\n",
    "                    break\n",
    "                elseif condi1 == true\n",
    "                    singleMove2D(red,[x,y],[x-1,y-1])\n",
    "                    newedo[ind,:]=[x-1,y-1]\n",
    "                    ys[:]=[x-1,y]\n",
    "                    break\n",
    "                end\n",
    "            end\n",
    "        end\n",
    "        \n",
    "        # Now I have in `xys` the potential new position for `ind-1`. If the current configuration is valid, I don´t make the move\n",
    "        # and the full pull move has been succesfully completed.\n",
    "        if validConf(N,ind,newedo,HPlist) != true\n",
    "            singleMove2D(red,edo[ind-1,:],xys) # Makes the move.\n",
    "            newedo[ind-1,:]=xys[:] # Records the change.\n",
    "        end\n",
    "\n",
    "    end\n",
    "    \n",
    "\n",
    "    # If all went well, a move has been done, now I have to check whether the current configuration is valid.\n",
    "    stateconf=validConf(N,ind-1,newedo,HPlist) # `true` means the sequence is valid.\n",
    "    for k in ind:-1:3\n",
    "        if stateconf == false\n",
    "            op=edo[k-2,:] # Old position.\n",
    "            np=edo[k,:] # New position.\n",
    "            singleMove2D(red,op,np) \n",
    "            newedo[k-2,:]=np \n",
    "            stateconf=validConf(N,k-2,newedo,HPlist) # Check whether the new configuration is valid.\n",
    "        else\n",
    "            break\n",
    "        end\n",
    "    end\n",
    "\n",
    "    return (red,newedo,HPlist) # Returns everything neccesary to reproduce the final configuration.\n",
    "end\n",
    "\n",
    "estpp=[[6 3];[6 4];[6 5];[5 5];[5 6];[4 6];[4 7];[5 7];[6 7];[6 6];[7 6];[8 6]]\n",
    "HPlistpp=[-1,1,1,1,-1,-1,1,-1,1,-1,-1,1]\n",
    "\n",
    "display(pullMove2D(10,8,estpp,HPlistpp)[1])"
   ]
  },
  {
   "cell_type": "code",
   "execution_count": null,
   "metadata": {},
   "outputs": [],
   "source": []
  }
 ],
 "metadata": {
  "kernelspec": {
   "display_name": "Julia 1.6.0",
   "language": "julia",
   "name": "julia-1.6"
  },
  "language_info": {
   "file_extension": ".jl",
   "mimetype": "application/julia",
   "name": "julia",
   "version": "1.6.0"
  }
 },
 "nbformat": 4,
 "nbformat_minor": 4
}
